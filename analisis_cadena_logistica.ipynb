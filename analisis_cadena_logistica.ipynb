{
 "cells": [
  {
   "cell_type": "markdown",
   "metadata": {},
   "source": [
    "# Análisis estadístico para control de la cadena logística\n",
    "\n",
    "Este cuadernillo realiza un análisis estadístico básico para evaluar el control del funcionamiento de una cadena logística. \n",
    "Incluye los siguientes pasos:\n",
    "1. **Simulación de datos**: Generación de datos ficticios de tiempos de entrega.\n",
    "2. **Cálculo de intervalos de confianza**: Determinar el rango dentro del cual probablemente se encuentre la media poblacional.\n",
    "3. **Contraste de hipótesis**: Verificar si la media muestral difiere significativamente de un valor hipotético.\n",
    "4. **Interpretación y conclusiones**: Evaluar si se rechaza o no la hipótesis nula (\\(H_0\\))."
   ]
  },
  {
   "cell_type": "code",
   "execution_count": 1,
   "metadata": {},
   "outputs": [],
   "source": [
    "# Importar librerías necesarias\n",
    "# Numpy para cálculos numéricos, scipy para estadística y matplotlib para visualización.\n",
    "import numpy as np\n",
    "from scipy import stats\n",
    "import matplotlib.pyplot as plt"
   ]
  },
  {
   "cell_type": "markdown",
   "metadata": {},
   "source": [
    "## Simulación de datos\n",
    "\n",
    "En esta sección, generamos datos ficticios que simulan los tiempos de entrega en días. \n",
    "La simulación se basa en una distribución normal con una media conocida (3.5 días) y una desviación estándar (0.5 días)."
   ]
  },
  {
   "cell_type": "code",
   "execution_count": 2,
   "metadata": {},
   "outputs": [
    {
     "name": "stdout",
     "output_type": "stream",
     "text": [
      "Media muestral: 3.4059265520744817\n",
      "Desviación estándar muestral: 0.4500032137012056\n"
     ]
    }
   ],
   "source": [
    "# Parámetros iniciales\n",
    "np.random.seed(42)  # Para reproducibilidad\n",
    "n = 30  # Tamaño de la muestra\n",
    "media_real = 3.5  # Tiempo medio de entrega en días\n",
    "desv_estandar_real = 0.5  # Desviación estándar real\n",
    "\n",
    "# Simulación de datos\n",
    "tiempos_entrega = np.random.normal(loc=media_real, scale=desv_estandar_real, size=n)\n",
    "\n",
    "# Mostrar estadísticos descriptivos\n",
    "media_muestral = np.mean(tiempos_entrega)\n",
    "desv_muestral = np.std(tiempos_entrega, ddof=1)  # ddof=1 para calcular para una muestra\n",
    "print(\"Media muestral:\", media_muestral)\n",
    "print(\"Desviación estándar muestral:\", desv_muestral)"
   ]
  },
  {
   "cell_type": "markdown",
   "metadata": {},
   "source": [
    "## Cálculo del intervalo de confianza\n",
    "\n",
    "El intervalo de confianza al 95% nos indica un rango donde esperamos que se encuentre la media poblacional. \n",
    "Utilizamos la distribución t de Student porque estamos trabajando con una muestra pequeña (\\(n < 30\\))."
   ]
  },
  {
   "cell_type": "code",
   "execution_count": 3,
   "metadata": {},
   "outputs": [
    {
     "name": "stdout",
     "output_type": "stream",
     "text": [
      "Intervalo de confianza al 95.0%: (3.24, 3.57)\n"
     ]
    }
   ],
   "source": [
    "# Nivel de confianza\n",
    "nivel_confianza = 0.95  # 95% de confianza\n",
    "alpha = 1 - nivel_confianza  # Nivel de significancia\n",
    "\n",
    "# Cálculo del intervalo de confianza\n",
    "t_critico = stats.t.ppf(1 - alpha/2, df=n-1)  # Valor crítico t\n",
    "margen_error = t_critico * (desv_muestral / np.sqrt(n))\n",
    "ic_min = media_muestral - margen_error\n",
    "ic_max = media_muestral + margen_error\n",
    "\n",
    "print(f\"Intervalo de confianza al {nivel_confianza*100}%: ({ic_min:.2f}, {ic_max:.2f})\")"
   ]
  },
  {
   "cell_type": "markdown",
   "metadata": {},
   "source": [
    "## Contraste de hipótesis\n",
    "\n",
    "### Planteamiento\n",
    "Queremos verificar si la media muestral (\\(\\bar{x}\\)) es significativamente diferente de un valor hipotético (\\(\\mu_0\\)). \n",
    "La prueba t para una muestra se formula así:\n",
    "- **Hipótesis nula (\\(H_0\\))**: La media muestral es igual a 3.5 días (\\(\\mu = 3.5\\)).\n",
    "- **Hipótesis alternativa (\\(H_a\\))**: La media muestral es diferente de 3.5 días (\\(\\mu \\neq 3.5\\)).\n",
    "\n",
    "Si el valor p es menor que \\(\\alpha\\), rechazamos \\(H_0\\)."
   ]
  },
  {
   "cell_type": "code",
   "execution_count": 4,
   "metadata": {},
   "outputs": [
    {
     "name": "stdout",
     "output_type": "stream",
     "text": [
      "Estadístico t: -1.1450173670383257\n",
      "Valor p: 0.2615641461880168\n",
      "No se rechaza la hipótesis nula (H0)\n"
     ]
    }
   ],
   "source": [
    "# Contraste de hipótesis\n",
    "media_hipotetica = 3.5  # Valor a contrastar\n",
    "t_stat, p_valor = stats.ttest_1samp(tiempos_entrega, popmean=media_hipotetica)\n",
    "\n",
    "print(\"Estadístico t:\", t_stat)\n",
    "print(\"Valor p:\", p_valor)\n",
    "\n",
    "# Conclusión del contraste de hipótesis\n",
    "if p_valor < alpha:\n",
    "    conclusion = \"Rechazamos la hipótesis nula (H0)\"\n",
    "else:\n",
    "    conclusion = \"No se rechaza la hipótesis nula (H0)\"\n",
    "\n",
    "print(conclusion)"
   ]
  },
  {
   "cell_type": "markdown",
   "metadata": {},
   "source": [
    "## Visualización de los datos simulados\n",
    "\n",
    "Para analizar la distribución de los datos simulados, graficamos un histograma con la media muestral destacada."
   ]
  },
  {
   "cell_type": "code",
   "execution_count": 5,
   "metadata": {},
   "outputs": [
    {
     "data": {
      "image/png": "[encoded data removed]",
      "text/plain": [
       "<Figure size 640x480 with 1 Axes>"
      ]
     },
     "metadata": {},
     "output_type": "display_data"
    }
   ],
   "source": [
    "# Visualización\n",
    "plt.hist(tiempos_entrega, bins=10, alpha=0.7, color='skyblue', edgecolor='black')\n",
    "plt.axvline(media_muestral, color='red', linestyle='dashed', linewidth=1, label='Media muestral')\n",
    "plt.title(\"Distribución de tiempos de entrega\")\n",
    "plt.xlabel(\"Días\")\n",
    "plt.ylabel(\"Frecuencia\")\n",
    "plt.legend()\n",
    "plt.show()"
   ]
  },
  {
   "cell_type": "markdown",
   "metadata": {},
   "source": [
    "## Conclusión final\n",
    "\n",
    "Con base en los resultados obtenidos:\n",
    "- El intervalo de confianza indica el rango donde es probable que se encuentre la media poblacional.\n",
    "- En el contraste de hipótesis:\n",
    "  - Si rechazamos \\(H_0\\), concluimos que la media muestral es significativamente diferente del valor hipotético.\n",
    "  - Si no se rechaza \\(H_0\\), no tenemos evidencia suficiente para afirmar que son diferentes."
   ]
  }
 ],
 "metadata": {
  "kernelspec": {
   "display_name": "Python 3",
   "language": "python",
   "name": "python3"
  },
  "language_info": {
   "codemirror_mode": {
    "name": "ipython",
    "version": 3
   },
   "file_extension": ".py",
   "mimetype": "text/x-python",
   "name": "python",
   "nbconvert_exporter": "python",
   "pygments_lexer": "ipython3",
   "version": "3.13.0"
  }
 },
 "nbformat": 4,
 "nbformat_minor": 5
}
